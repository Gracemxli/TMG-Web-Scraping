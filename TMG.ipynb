{
 "cells": [
  {
   "cell_type": "code",
   "execution_count": 1,
   "id": "7806f2c7-c8b4-47f3-b14a-8dba4bcd65fb",
   "metadata": {
    "tags": []
   },
   "outputs": [],
   "source": [
    "from bs4 import BeautifulSoup\n",
    "import requests\n"
   ]
  },
  {
   "cell_type": "code",
   "execution_count": 2,
   "id": "9fdcb57c-54c3-42cd-a9ea-fbf3279bf82a",
   "metadata": {
    "tags": []
   },
   "outputs": [],
   "source": [
    "url = 'https://en.wikipedia.org/wiki/List_of_painters_in_the_Los_Angeles_County_Museum_of_Art_collections'\n",
    "\n",
    "page =requests.get(url)\n",
    "\n",
    "soup = BeautifulSoup(page.text,'html')\n"
   ]
  },
  {
   "cell_type": "code",
   "execution_count": 4,
   "id": "e834379a-e7ea-45a9-b586-5b056dd8e39e",
   "metadata": {
    "tags": []
   },
   "outputs": [],
   "source": [
    "#print(soup)\n"
   ]
  },
  {
   "cell_type": "code",
   "execution_count": 5,
   "id": "d7eb0509-5360-4035-9398-805b03976355",
   "metadata": {
    "tags": []
   },
   "outputs": [],
   "source": [
    "#soup.find_all('li')\n"
   ]
  },
  {
   "cell_type": "code",
   "execution_count": 6,
   "id": "982d8466-4f13-4ba7-adba-b659c64ac9e9",
   "metadata": {
    "tags": []
   },
   "outputs": [
    {
     "data": {
      "text/plain": [
       "<li class=\"mw-list-item\" id=\"n-contents\"><a href=\"/wiki/Wikipedia:Contents\" title=\"Guides to browsing Wikipedia\"><span>Contents</span></a></li>"
      ]
     },
     "execution_count": 6,
     "metadata": {},
     "output_type": "execute_result"
    }
   ],
   "source": [
    "soup.find_all('li')[1]"
   ]
  },
  {
   "cell_type": "code",
   "execution_count": 7,
   "id": "9f7043d1-bfae-471a-87ca-c062bb6d4e46",
   "metadata": {
    "tags": []
   },
   "outputs": [
    {
     "data": {
      "text/plain": [
       "<li class=\"mw-list-item\" id=\"t-permalink\"><a href=\"/w/index.php?title=List_of_painters_in_the_Los_Angeles_County_Museum_of_Art_collections&amp;oldid=1115079145\" title=\"Permanent link to this revision of this page\"><span>Permanent link</span></a></li>"
      ]
     },
     "execution_count": 7,
     "metadata": {},
     "output_type": "execute_result"
    }
   ],
   "source": [
    "soup.find_all('li')[30]"
   ]
  },
  {
   "cell_type": "code",
   "execution_count": 8,
   "id": "039a56e9-fef1-4d1a-8fe4-416e3aa704bc",
   "metadata": {
    "tags": []
   },
   "outputs": [
    {
     "data": {
      "text/plain": [
       "<li><a href=\"#N\">N</a></li>"
      ]
     },
     "execution_count": 8,
     "metadata": {},
     "output_type": "execute_result"
    }
   ],
   "source": [
    "soup.find_all('li')[50]"
   ]
  },
  {
   "cell_type": "code",
   "execution_count": 9,
   "id": "8046a5c4-5ec7-4530-8f9b-3253015bf015",
   "metadata": {
    "tags": []
   },
   "outputs": [
    {
     "data": {
      "text/plain": [
       "<li><a href=\"#X\">X</a></li>"
      ]
     },
     "execution_count": 9,
     "metadata": {},
     "output_type": "execute_result"
    }
   ],
   "source": [
    "soup.find_all('li')[60]"
   ]
  },
  {
   "cell_type": "code",
   "execution_count": 10,
   "id": "a2384a8f-7f50-47d1-abd1-7cf0085fb42c",
   "metadata": {
    "tags": []
   },
   "outputs": [
    {
     "data": {
      "text/plain": [
       "<li><a href=\"/wiki/Francesco_Bissolo\" title=\"Francesco Bissolo\">Francesco Bissolo</a> (c.1470–1554), 1 painting : <a class=\"external text\" href=\"http://collections.lacma.org/node/731525\" rel=\"nofollow\">LACMA</a></li>"
      ]
     },
     "execution_count": 10,
     "metadata": {},
     "output_type": "execute_result"
    }
   ],
   "source": [
    "soup.find_all('li')[100]"
   ]
  },
  {
   "cell_type": "code",
   "execution_count": 11,
   "id": "3ec4b5b7-d086-4b44-9eda-ab1247358b5c",
   "metadata": {
    "tags": []
   },
   "outputs": [
    {
     "data": {
      "text/plain": [
       "<li><a href=\"/wiki/George_Bellows\" title=\"George Bellows\">George Bellows</a> (1882–1925), 3 paintings : <a class=\"external text\" href=\"http://collections.lacma.org/node/164700\" rel=\"nofollow\">LACMA</a></li>"
      ]
     },
     "execution_count": 11,
     "metadata": {},
     "output_type": "execute_result"
    }
   ],
   "source": [
    "soup.find_all('li')[90]"
   ]
  },
  {
   "cell_type": "code",
   "execution_count": 12,
   "id": "5a46711c-7688-4ed7-952d-fff24ced5b20",
   "metadata": {
    "tags": []
   },
   "outputs": [
    {
     "data": {
      "text/plain": [
       "<li><a href=\"/wiki/Hendrick_Avercamp\" title=\"Hendrick Avercamp\">Hendrick Avercamp</a> (1585–1634), 1 painting : <a class=\"external text\" href=\"http://collections.lacma.org/node/159197\" rel=\"nofollow\">LACMA</a></li>"
      ]
     },
     "execution_count": 12,
     "metadata": {},
     "output_type": "execute_result"
    }
   ],
   "source": [
    "soup.find_all('li')[75]"
   ]
  },
  {
   "cell_type": "code",
   "execution_count": 13,
   "id": "83a5201d-1738-425c-99fb-6ec905e64dfe",
   "metadata": {
    "tags": []
   },
   "outputs": [
    {
     "data": {
      "text/plain": [
       "<li><a href=\"/wiki/Josef_Albers\" title=\"Josef Albers\">Josef Albers</a> (1888–1976), 4 paintings : <a class=\"external text\" href=\"http://collections.lacma.org/node/165407\" rel=\"nofollow\">LACMA</a></li>"
      ]
     },
     "execution_count": 13,
     "metadata": {},
     "output_type": "execute_result"
    }
   ],
   "source": [
    "soup.find_all('li')[65]"
   ]
  },
  {
   "cell_type": "code",
   "execution_count": 14,
   "id": "07ab4ed6-e852-46fd-be62-2d2570b5dadf",
   "metadata": {
    "tags": []
   },
   "outputs": [
    {
     "data": {
      "text/plain": [
       "<li><a href=\"/wiki/Pieter_Coecke_van_Aelst\" title=\"Pieter Coecke van Aelst\">Pieter Coecke van Aelst</a> (1502–1550), 1 painting : <a class=\"external text\" href=\"http://collections.lacma.org/node/155860\" rel=\"nofollow\">LACMA</a></li>"
      ]
     },
     "execution_count": 14,
     "metadata": {},
     "output_type": "execute_result"
    }
   ],
   "source": [
    "soup.find_all('li')[63]"
   ]
  },
  {
   "cell_type": "code",
   "execution_count": 15,
   "id": "ad4c1087-8208-49b0-8753-4d72066d1d40",
   "metadata": {
    "tags": []
   },
   "outputs": [],
   "source": [
    "for i in range (10):\n",
    "    soup.find_all('li')[i]"
   ]
  },
  {
   "cell_type": "code",
   "execution_count": 16,
   "id": "cb54dee7-d831-46d8-b946-a7be65ffac79",
   "metadata": {
    "tags": []
   },
   "outputs": [],
   "source": [
    "for i in range(10):\n",
    "    soup.find_all('li')[i]"
   ]
  },
  {
   "cell_type": "code",
   "execution_count": 17,
   "id": "073a5cfc-04ac-46b7-abc2-bce226495ae4",
   "metadata": {
    "tags": []
   },
   "outputs": [
    {
     "name": "stdout",
     "output_type": "stream",
     "text": [
      "<li class=\"mw-list-item\" id=\"n-mainpage-description\"><a accesskey=\"z\" href=\"/wiki/Main_Page\" title=\"Visit the main page [z]\"><span>Main page</span></a></li>\n",
      "<li class=\"mw-list-item\" id=\"n-contents\"><a href=\"/wiki/Wikipedia:Contents\" title=\"Guides to browsing Wikipedia\"><span>Contents</span></a></li>\n",
      "<li class=\"mw-list-item\" id=\"n-currentevents\"><a href=\"/wiki/Portal:Current_events\" title=\"Articles related to current events\"><span>Current events</span></a></li>\n",
      "<li class=\"mw-list-item\" id=\"n-randompage\"><a accesskey=\"x\" href=\"/wiki/Special:Random\" title=\"Visit a randomly selected article [x]\"><span>Random article</span></a></li>\n",
      "<li class=\"mw-list-item\" id=\"n-aboutsite\"><a href=\"/wiki/Wikipedia:About\" title=\"Learn about Wikipedia and how it works\"><span>About Wikipedia</span></a></li>\n",
      "<li class=\"mw-list-item\" id=\"n-contactpage\"><a href=\"//en.wikipedia.org/wiki/Wikipedia:Contact_us\" title=\"How to contact Wikipedia\"><span>Contact us</span></a></li>\n",
      "<li class=\"mw-list-item\" id=\"n-sitesupport\"><a href=\"https://donate.wikimedia.org/wiki/Special:FundraiserRedirector?utm_source=donate&amp;utm_medium=sidebar&amp;utm_campaign=C13_en.wikipedia.org&amp;uselang=en\" title=\"Support us by donating to the Wikimedia Foundation\"><span>Donate</span></a></li>\n",
      "<li class=\"mw-list-item\" id=\"n-help\"><a href=\"/wiki/Help:Contents\" title=\"Guidance on how to use and edit Wikipedia\"><span>Help</span></a></li>\n",
      "<li class=\"mw-list-item\" id=\"n-introduction\"><a href=\"/wiki/Help:Introduction\" title=\"Learn how to edit Wikipedia\"><span>Learn to edit</span></a></li>\n",
      "<li class=\"mw-list-item\" id=\"n-portal\"><a href=\"/wiki/Wikipedia:Community_portal\" title=\"The hub for editors\"><span>Community portal</span></a></li>\n"
     ]
    }
   ],
   "source": [
    "for i in range(10):\n",
    "    print (soup.find_all('li')[i])"
   ]
  },
  {
   "cell_type": "code",
   "execution_count": 18,
   "id": "d41fa0c2-96f4-41df-933f-80aba5c6e382",
   "metadata": {
    "tags": []
   },
   "outputs": [
    {
     "name": "stdout",
     "output_type": "stream",
     "text": [
      "<li><a href=\"/wiki/Pieter_Coecke_van_Aelst\" title=\"Pieter Coecke van Aelst\">Pieter Coecke van Aelst</a> (1502–1550), 1 painting : <a class=\"external text\" href=\"http://collections.lacma.org/node/155860\" rel=\"nofollow\">LACMA</a></li>\n",
      "<li><a class=\"new\" href=\"/w/index.php?title=Juan_Francisco_de_Aguilera&amp;action=edit&amp;redlink=1\" title=\"Juan Francisco de Aguilera (page does not exist)\">Juan Francisco de Aguilera</a> (1671–?), 1 painting : <a class=\"external text\" href=\"http://collections.lacma.org/node/162249\" rel=\"nofollow\">LACMA</a></li>\n",
      "<li><a href=\"/wiki/Josef_Albers\" title=\"Josef Albers\">Josef Albers</a> (1888–1976), 4 paintings : <a class=\"external text\" href=\"http://collections.lacma.org/node/165407\" rel=\"nofollow\">LACMA</a></li>\n",
      "<li><a href=\"/wiki/Lita_Albuquerque\" title=\"Lita Albuquerque\">Lita Albuquerque</a> (b.1946), 8 paintings : <a class=\"external text\" href=\"http://collections.lacma.org/node/166540\" rel=\"nofollow\">LACMA</a></li>\n",
      "<li><a class=\"mw-redirect\" href=\"/wiki/Martha_Joanne_Alf\" title=\"Martha Joanne Alf\">Martha Joanne Alf</a> (1930–2019), 2 paintings : <a class=\"external text\" href=\"http://collections.lacma.org/node/165194\" rel=\"nofollow\">LACMA</a></li>\n",
      "<li><a href=\"/wiki/Alessandro_Allori\" title=\"Alessandro Allori\">Alessandro Allori</a> (1535–1607), 1 painting : <a class=\"external text\" href=\"http://collections.lacma.org/node/165411\" rel=\"nofollow\">LACMA</a></li>\n",
      "<li><a href=\"/wiki/Carlos_Almaraz\" title=\"Carlos Almaraz\">Carlos Almaraz</a> (1941–1989), 2 paintings : <a class=\"external text\" href=\"http://collections.lacma.org/node/165129\" rel=\"nofollow\">LACMA</a></li>\n",
      "<li><a href=\"/wiki/John_Altoon\" title=\"John Altoon\">John Altoon</a> (1925–1969), 2 paintings : <a class=\"external text\" href=\"http://collections.lacma.org/node/167454\" rel=\"nofollow\">LACMA</a></li>\n",
      "<li><a href=\"/wiki/Mabel_Alvarez\" title=\"Mabel Alvarez\">Mabel Alvarez</a> (1891–1985), 1 painting : <a class=\"external text\" href=\"http://collections.lacma.org/node/156040\" rel=\"nofollow\">LACMA</a></li>\n",
      "<li><a href=\"/wiki/Francis_Al%C3%BFs\" title=\"Francis Alÿs\">Francis Alÿs</a> (b.1959), 2 paintings : <a class=\"external text\" href=\"http://collections.lacma.org/node/158266\" rel=\"nofollow\">LACMA</a></li>\n"
     ]
    }
   ],
   "source": [
    "for i in range(10):\n",
    "    print (soup.find_all('li')[63+i])"
   ]
  },
  {
   "cell_type": "code",
   "execution_count": 19,
   "id": "b3e51c34-dbec-47c3-a296-2b4a1e8a83ec",
   "metadata": {
    "tags": []
   },
   "outputs": [
    {
     "data": {
      "text/plain": [
       "771"
      ]
     },
     "execution_count": 19,
     "metadata": {},
     "output_type": "execute_result"
    }
   ],
   "source": [
    "len(soup.find_all('li'))"
   ]
  },
  {
   "cell_type": "code",
   "execution_count": 20,
   "id": "ac07fe5f-788e-41d6-a460-857d5d3de6ec",
   "metadata": {
    "tags": []
   },
   "outputs": [
    {
     "data": {
      "text/plain": [
       "<li><a href=\"/wiki/List_of_paintings_by_Jean-Auguste-Dominique_Ingres\" title=\"List of paintings by Jean-Auguste-Dominique Ingres\">Jean-Auguste-Dominique Ingres</a></li>"
      ]
     },
     "execution_count": 20,
     "metadata": {},
     "output_type": "execute_result"
    }
   ],
   "source": [
    "soup.find_all('li')[671]"
   ]
  },
  {
   "cell_type": "code",
   "execution_count": 21,
   "id": "f7baf888-f2a4-4644-81c0-a5abdec6774d",
   "metadata": {
    "tags": []
   },
   "outputs": [
    {
     "data": {
      "text/plain": [
       "<li><a href=\"/wiki/List_of_works_by_J._Alden_Weir\" title=\"List of works by J. Alden Weir\">J. Alden Weir</a></li>"
      ]
     },
     "execution_count": 21,
     "metadata": {},
     "output_type": "execute_result"
    }
   ],
   "source": [
    "soup.find_all('li')[730]"
   ]
  },
  {
   "cell_type": "code",
   "execution_count": 22,
   "id": "3e4c1ec9-d811-4553-ad0c-4019ca1e1ef1",
   "metadata": {
    "tags": []
   },
   "outputs": [
    {
     "data": {
      "text/plain": [
       "<li id=\"footer-places-about\"><a href=\"/wiki/Wikipedia:About\">About Wikipedia</a></li>"
      ]
     },
     "execution_count": 22,
     "metadata": {},
     "output_type": "execute_result"
    }
   ],
   "source": [
    "soup.find_all('li')[760]"
   ]
  },
  {
   "cell_type": "code",
   "execution_count": 23,
   "id": "01bd1911-f233-49af-b4d8-7e9726dd61b6",
   "metadata": {
    "tags": []
   },
   "outputs": [
    {
     "data": {
      "text/plain": [
       "<li><a href=\"/wiki/Category:People_associated_with_the_Los_Angeles_County_Museum_of_Art\" title=\"Category:People associated with the Los Angeles County Museum of Art\">People associated with the Los Angeles County Museum of Art</a></li>"
      ]
     },
     "execution_count": 23,
     "metadata": {},
     "output_type": "execute_result"
    }
   ],
   "source": [
    "soup.find_all('li')[750]"
   ]
  },
  {
   "cell_type": "code",
   "execution_count": 24,
   "id": "fe480a42-e387-43ac-8b0e-3979e1dbf609",
   "metadata": {
    "tags": []
   },
   "outputs": [
    {
     "data": {
      "text/plain": [
       "<li><a class=\"mw-redirect\" href=\"/wiki/List_of_haunted_paintings\" title=\"List of haunted paintings\">Haunted paintings</a></li>"
      ]
     },
     "execution_count": 24,
     "metadata": {},
     "output_type": "execute_result"
    }
   ],
   "source": [
    "soup.find_all('li')[735]"
   ]
  },
  {
   "cell_type": "code",
   "execution_count": 25,
   "id": "3bbb29e7-30eb-4e86-a6b7-6e368c4358fd",
   "metadata": {
    "tags": []
   },
   "outputs": [
    {
     "data": {
      "text/plain": [
       "<li><a href=\"/wiki/List_of_works_by_J._Alden_Weir\" title=\"List of works by J. Alden Weir\">J. Alden Weir</a></li>"
      ]
     },
     "execution_count": 25,
     "metadata": {},
     "output_type": "execute_result"
    }
   ],
   "source": [
    "soup.find_all('li')[730]"
   ]
  },
  {
   "cell_type": "code",
   "execution_count": 26,
   "id": "54c478c0-296e-447d-b8fc-939dad0defcd",
   "metadata": {
    "tags": []
   },
   "outputs": [
    {
     "data": {
      "text/plain": [
       "<li><a href=\"/wiki/List_of_artworks_on_stamps_of_the_United_States\" title=\"List of artworks on stamps of the United States\">On United States postage stamps</a></li>"
      ]
     },
     "execution_count": 26,
     "metadata": {},
     "output_type": "execute_result"
    }
   ],
   "source": [
    "soup.find_all('li')[740]"
   ]
  },
  {
   "cell_type": "code",
   "execution_count": 27,
   "id": "2914a5be-e9d3-4a3f-81d7-7a6ef6fccbfe",
   "metadata": {
    "tags": []
   },
   "outputs": [
    {
     "data": {
      "text/plain": [
       "<li><a class=\"mw-redirect\" href=\"/wiki/List_of_artists_in_the_Web_Gallery_of_Art\" title=\"List of artists in the Web Gallery of Art\">Web Gallery of Art, Internet</a></li>"
      ]
     },
     "execution_count": 27,
     "metadata": {},
     "output_type": "execute_result"
    }
   ],
   "source": [
    "soup.find_all('li')[600]"
   ]
  },
  {
   "cell_type": "code",
   "execution_count": 28,
   "id": "5ddf5314-a1d6-45d0-b315-5ae9301a5e3b",
   "metadata": {
    "tags": []
   },
   "outputs": [
    {
     "data": {
      "text/plain": [
       "<li><a href=\"/wiki/Kehinde_Wiley\" title=\"Kehinde Wiley\">Kehinde Wiley</a> (b.1977), 1 painting : <a class=\"external text\" href=\"http://collections.lacma.org/node/161308\" rel=\"nofollow\">LACMA</a></li>"
      ]
     },
     "execution_count": 28,
     "metadata": {},
     "output_type": "execute_result"
    }
   ],
   "source": [
    "soup.find_all('li')[550]"
   ]
  },
  {
   "cell_type": "code",
   "execution_count": 29,
   "id": "f33bf175-234f-4302-bd9a-8724a1631052",
   "metadata": {
    "tags": []
   },
   "outputs": [
    {
     "data": {
      "text/plain": [
       "<li><a class=\"mw-redirect\" href=\"/wiki/Yuan_Yao_(painter)\" title=\"Yuan Yao (painter)\">Yuan Yao</a> (18th Century), 1 painting : <a class=\"external text\" href=\"http://collections.lacma.org/node/156219\" rel=\"nofollow\">LACMA</a></li>"
      ]
     },
     "execution_count": 29,
     "metadata": {},
     "output_type": "execute_result"
    }
   ],
   "source": [
    "soup.find_all('li')[570]"
   ]
  },
  {
   "cell_type": "code",
   "execution_count": 30,
   "id": "0677bded-e7cd-491f-bd45-6c346daf1ff3",
   "metadata": {
    "tags": []
   },
   "outputs": [
    {
     "data": {
      "text/plain": [
       "<li><a href=\"/wiki/Zhou_Zhimian\" title=\"Zhou Zhimian\">Zhou Zhimian</a> (16th Century), 1 painting : <a class=\"external text\" href=\"http://collections.lacma.org/node/154254\" rel=\"nofollow\">LACMA</a></li>"
      ]
     },
     "execution_count": 30,
     "metadata": {},
     "output_type": "execute_result"
    }
   ],
   "source": [
    "soup.find_all('li')[574]"
   ]
  },
  {
   "cell_type": "code",
   "execution_count": 31,
   "id": "c98f2418-799d-4505-930a-e5b29eab395f",
   "metadata": {
    "tags": []
   },
   "outputs": [
    {
     "data": {
      "text/plain": [
       "<li><a href=\"/wiki/Marco_Zoppo\" title=\"Marco Zoppo\">Marco Zoppo</a> (1433–1478), 1 painting : <a class=\"external text\" href=\"http://collections.lacma.org/node/167588\" rel=\"nofollow\">LACMA</a></li>"
      ]
     },
     "execution_count": 31,
     "metadata": {},
     "output_type": "execute_result"
    }
   ],
   "source": [
    "soup.find_all('li')[575]"
   ]
  },
  {
   "cell_type": "code",
   "execution_count": 32,
   "id": "1d940a9e-7f16-4cb7-8874-762693637903",
   "metadata": {
    "tags": []
   },
   "outputs": [],
   "source": [
    "allArtists = soup.find_all('li')[63:576]\n"
   ]
  },
  {
   "cell_type": "code",
   "execution_count": 94,
   "id": "ac104354-c559-4903-a628-9aa3abc1e0b3",
   "metadata": {
    "tags": []
   },
   "outputs": [
    {
     "name": "stdout",
     "output_type": "stream",
     "text": [
      "246\n"
     ]
    }
   ],
   "source": [
    "links = []\n",
    "for i in allArtists:\n",
    "    artist = i.find_all('a')\n",
    "    for link in range(0,len(artist),2):\n",
    "        links.append(artist[link].get('href'))\n",
    "        \n",
    "keywords=[\"African American\", \"African\", \"Haitian\", \"Kenyan\",  \"South African\",\n",
    "     \"Tanzanian\",  \"Namibian\",  \"Algerian\",  \"Gay\", \"LGBTQ\", \"LGBT\",\n",
    "    \"LGBTQ+\", \"Lesbian\", \"Bisexual\", \"Transgender\", \"Non-binary\", \"Homosexual\", \"Queer\", \"AIDS\", \"Latin\", \"Latino\",\n",
    "    \"Latina\", \"Mexican\",   \"Puerto Rican\", \"Spanish\",  \"Brazilian\", \"Hispanic\", \"Latinx\",\n",
    "     \"Asian\", \"Chinese\",  \"Japanese\",  \"Indian\", \"Taiwanese\", \"Thai\",\n",
    "    \"Thawanese\", \"Korean\", \"South Korean\",  \"Vietnamese\", \"Filipino\", \n",
    "     \"Cambodian\", \"Indonesian\", \"Nepalese\", \"Middle Eastern\", \"Iraq\", \"Iraqi\", \n",
    "    \"Pakistani\", \"Iranian\",  \"Palestinian\", \"Laotian\", \"Afghan\", \"Mongolian\",\n",
    "     \"Singaporean\", \"Taiwanese\", \"Sri Lankan\", \"Egyptian\", \"Muslim\",\n",
    "    \"Sikhism\", \"Sikh\", \"Arabic\", \"Saudi Arabia\", \"Saudi Arabian\", \"Lebanese\",  \"Syrian\", \n",
    "    \"Colombian\", \"Argentinian\",  \"Ecuadorian\",\"Peruvian\", \"Chilean\", \n",
    "    \"Venezuelan\"]\n",
    "count = 0\n",
    "for link in links:\n",
    "    page = requests.get('https://en.wikipedia.org/' + link)\n",
    "    soup = BeautifulSoup(page.text, \"html.parser\")\n",
    "    match = False\n",
    "    for word in keywords:\n",
    "        if soup.findAll(string=lambda text: word in text):\n",
    "            match = True\n",
    "            break\n",
    "    if match: count += 1\n",
    "print(count)"
   ]
  },
  {
   "cell_type": "code",
   "execution_count": 33,
   "id": "3c531088-d2ad-4639-afa7-3ced97b31467",
   "metadata": {
    "tags": []
   },
   "outputs": [
    {
     "name": "stdout",
     "output_type": "stream",
     "text": [
      "104\n"
     ]
    }
   ],
   "source": [
    "artists_wikipedia_links = [ '/wiki/Franz_Ackermann','/wiki/John_Ahearn_and_Rigoberto_Torres',\n",
    "    '/wiki/Doug_Aitken',\n",
    "    '/wiki/El_Anatsui',\n",
    "    '/wiki/Carl_Andre',\n",
    "    '/wiki/Janine_Antoni',\n",
    "    '/wiki/Richard_Artschwager',\n",
    "    '/wiki/Tauba_Auerbach',\n",
    "    '/wiki/Donald_Baechler',\n",
    "    '/wiki/John_Baldessari',\n",
    "    '/wiki/Jean-Michel_Basquiat',\n",
    "    '/wiki/Bernd_and_Hilla_Becher',\n",
    "    '/wiki/Ericka_Beckman',\n",
    "    '/wiki/Joseph_Beuys',\n",
    "    '/wiki/Ashley_Bickerton',\n",
    "    '/wiki/Ross_Bleckner',\n",
    "    '/wiki/Jonathan_Borofsky',\n",
    "    '/wiki/Richard_Bosman',\n",
    "    '/wiki/Mark_Bradford',\n",
    "    '/wiki/Georges_Braque',\n",
    "    '/wiki/Cecily_Brown',\n",
    "    '/wiki/Chris_Burden',\n",
    "    '/wiki/Scott_Burton',\n",
    "    '/wiki/Alexander_Calder',\n",
    "    '/wiki/Saint_Clair_Cemin',\n",
    "    '/wiki/Chuck_Close',\n",
    "    '/wiki/Sue_Coe',\n",
    "    '/wiki/Robbie_Conal',\n",
    "    '/wiki/George_Condo',\n",
    "     '/wiki/John_Currin',\n",
    "    '/wiki/Philip-Lorca_diCorcia',\n",
    "    '/wiki/Richard_Diebenkorn',\n",
    "    '/wiki/Marlene_Dumas',\n",
    "    '/wiki/Urs_Fischer',\n",
    "    '/wiki/Eric_Fischl',\n",
    "    '/wiki/Gunther_Forg',\n",
    "    '/wiki/Sam_Francis',\n",
    "    '/wiki/Tom_Friedman',\n",
    "    '/wiki/Katharina_Fritsch',\n",
    "    '/wiki/Ellen_Gallagher',\n",
    "    '/wiki/Charles_Garabedian',\n",
    "    '/wiki/Alberto_Giacometti',\n",
    "    '/wiki/Jack_Goldstein',\n",
    "    '/wiki/Leon_Golub',\n",
    "    '/wiki/Robert_Graham',\n",
    "    '/wiki/Timothy_Greenfield-Sanders',\n",
    "    '/wiki/Mark_Grotjahn',\n",
    "    '/wiki/Andreas_Gursky',\n",
    "    '/wiki/Hans_Haacke',\n",
    "    '/wiki/Peter_Halley',\n",
    "    '/wiki/David_Hammons',\n",
    "    '/wiki/Keith_Haring',\n",
    "    '/wiki/Damien_Hirst',\n",
    "    '/wiki/Jenny_Holzer',\n",
    "    '/wiki/Thomas_Houseago',\n",
    "    '/wiki/Elliott_Hundley',\n",
    "    '/wiki/Bryan_Hunt',\n",
    "    '/wiki/Pierre_Huyghe',\n",
    "    '/wiki/Mark_Innerst',\n",
    "    '/wiki/Robert_Irwin',\n",
    "    '/wiki/Alex_Israel',\n",
    "    '/wiki/Neil_Jenney',\n",
    "    '/wiki/Bill_Jensen',\n",
    "    '/wiki/Jasper_Johns',\n",
    "    '/wiki/Donald_Judd',\n",
    "    '/wiki/Mike_Kelley',\n",
    "    '/wiki/Ellsworth_Kelly',\n",
    "    '/wiki/William_Kentridge',\n",
    "    '/wiki/Toba_Khedoori',\n",
    "    '/wiki/Anselm_Kiefer',\n",
    "    '/wiki/Ragnar_Kjartansson',\n",
    "    '/wiki/Imi_Knoebel',\n",
    "    '/wiki/Jeff_Koons',\n",
    "    '/wiki/Barbara_Kruger',\n",
    "    '/wiki/Shio_Kusaka',\n",
    "    '/wiki/Yayoi_Kusama',\n",
    "    '/wiki/Louise_Lawler',\n",
    "    '/wiki/Annette_Lemieux',\n",
    "    '/wiki/Julian_Lethbridge',\n",
    "    '/wiki/Sherrie_Levine',\n",
    "    '/wiki/Amani_Lewis',\n",
    "    '/wiki/Roy_Lichtenstein',\n",
    "    '/wiki/Glenn_Ligon',\n",
    "    '/wiki/Sharon_Lockhart',\n",
    "    '/wiki/Robert_Longo',\n",
    "    '/wiki/Andrew_Lord',\n",
    "    '/wiki/Goshka_Macuga',\n",
    "    '/wiki/Robert_Mapplethorpe',\n",
    "    '/wiki/Brice_Marden',\n",
    "     '/wiki/Kerry_James_Marshall',\n",
    "    '/wiki/Henri_Matisse',\n",
    "    '/wiki/John_McCracken',\n",
    "    '/wiki/David_McDermott_and_Peter_McGough',\n",
    "    '/wiki/John_McLaughlin',\n",
    "    '/wiki/Julie_Mehretu',\n",
    "    '/wiki/Joan_Mir%C3%B3',\n",
    "    '/wiki/Henry_Moore',\n",
    "    '/wiki/Malcolm_Morley',\n",
    "    '/wiki/Robert_Moskowitz',\n",
    "    '/wiki/Ron_Mueck',\n",
    "    '/wiki/Takashi_Murakami',\n",
    "    '/wiki/Oscar_Murillo',\n",
    "    '/wiki/Bruce_Nauman',\n",
    "    '/wiki/Shirin_Neshat',\n",
    "    '/wiki/Cady_Noland',\n",
    "    '/wiki/Kenneth_Noland',\n",
    "    '/wiki/Albert_Oehlen',\n",
    "    '/wiki/Catherine_Opie',\n",
    "    '/wiki/Tom_Otterness',\n",
    "    '/wiki/Tony_Oursler',\n",
    "    '/wiki/Paul_Pfeiffer',\n",
    "    '/wiki/Pablo_Picasso',\n",
    "    '/wiki/Lari_Pittman',\n",
    "    '/wiki/Sigmar_Polke',\n",
    "    '/wiki/Richard_Prince',\n",
    "    '/wiki/Nathaniel_Mary_Quinn',\n",
    "    '/wiki/Neo_Rauch',\n",
    "    '/wiki/Robert_Rauschenberg',\n",
    "    '/wiki/Charles_Ray',\n",
    "     '/wiki/James_Rosenquist',\n",
    "    '/wiki/Susan_Rothenberg',\n",
    "    '/wiki/Sterling_Ruby',\n",
    "    '/wiki/Thomas_Ruff',\n",
    "    '/wiki/Ed_Ruscha',\n",
    "    '/wiki/David_Salle',\n",
    "    '/wiki/Jenny_Saville',\n",
    "    '/wiki/Adrian_Saxe',\n",
    "    '/wiki/Kenny_Scharf',\n",
    "    '/wiki/Julian_Schnabel',\n",
    "    '/wiki/George_Schneeman',\n",
    "    '/wiki/Sean_Scully',\n",
    "    '/wiki/George_Segal',\n",
    "    '/wiki/Richard_Serra',\n",
    "    '/wiki/Joel_Shapiro',\n",
    "    '/wiki/Cindy_Sherman',\n",
    "    '/wiki/Kiki_Smith',\n",
    "    '/wiki/Josh_Smith',\n",
    "    '/wiki/Ray_Smith',\n",
    "    '/wiki/David_Smith',\n",
    "    '/wiki/Frank_Stella',\n",
    "    '/wiki/Rudolf_Stingel',\n",
    "    '/wiki/Thomas_Struth',\n",
    "    '/wiki/Philip_Taaffe',\n",
    "    '/wiki/Mark_Tansey',\n",
    "    '/wiki/Henry_Taylor',\n",
    "    '/wiki/Diana_Thater',\n",
    "    '/wiki/Robert_Therrien',\n",
    "    '/wiki/Hank_Willis_Thomas',\n",
    "    '/wiki/Mickalene_Thomas',\n",
    "    '/wiki/Luc_Tuymans',\n",
    "    '/wiki/Cy_Twombly',\n",
    "    '/wiki/Piotr_Uklanski',\n",
    "    '/wiki/Meyer_Vaisman',\n",
    "    '/wiki/Charline_von_Heyl',\n",
    "    '/wiki/Kara_Walker',\n",
    "    '/wiki/Jeff_Wall',\n",
    "    '/wiki/Andy_Warhol',\n",
    "    '/wiki/Kehinde_Wiley',\n",
    "    '/wiki/Christopher_Williams',\n",
    "    '/wiki/Terry_Winters',\n",
    "    '/wiki/David_Wojnarowicz',\n",
    "    '/wiki/Jordan_Wolfson',\n",
    "    '/wiki/Jonas_Wood',\n",
    "    '/wiki/Christopher_Wool',\n",
    "    '/wiki/Pat_York',\n",
    "]\n",
    "keywords2=[\"African American\", \"African\", \"Haitian\", \"Kenyan\",  \"South African\",\n",
    "     \"Tanzanian\",  \"Namibian\",  \"Algerian\",  \"Gay\", \"LGBTQ\", \"LGBT\",\n",
    "    \"LGBTQ+\", \"Lesbian\", \"Bisexual\", \"Transgender\", \"Non-binary\", \"Homosexual\", \"Queer\", \"AIDS\", \"Latin\", \"Latino\",\n",
    "    \"Latina\", \"Mexican\",   \"Puerto Rican\", \"Spanish\",  \"Brazilian\", \"Hispanic\", \"Latinx\",\n",
    "     \"Asian\", \"Chinese\",  \"Japanese\",  \"Indian\", \"Taiwanese\", \"Thai\",\n",
    "    \"Thawanese\", \"Korean\", \"South Korean\",  \"Vietnamese\", \"Filipino\", \n",
    "     \"Cambodian\", \"Indonesian\", \"Nepalese\", \"Middle Eastern\", \"Iraq\", \"Iraqi\", \n",
    "    \"Pakistani\", \"Iranian\",  \"Palestinian\", \"Laotian\", \"Afghan\", \"Mongolian\",\n",
    "     \"Singaporean\", \"Taiwanese\", \"Sri Lankan\", \"Egyptian\", \"Muslim\",\n",
    "    \"Sikhism\", \"Sikh\", \"Arabic\", \"Saudi Arabia\", \"Saudi Arabian\", \"Lebanese\",  \"Syrian\", \n",
    "    \"Colombian\", \"Argentinian\",  \"Ecuadorian\",\"Peruvian\", \"Chilean\", \n",
    "    \"Venezuelan\"]\n",
    "count2 = 0\n",
    "for link2 in artists_wikipedia_links:\n",
    "    page = requests.get('https://en.wikipedia.org/' + link2)\n",
    "    soup = BeautifulSoup(page.text, \"html.parser\")\n",
    "    match = False\n",
    "    for word in keywords2:\n",
    "        if soup.findAll(string=lambda text: word in text):\n",
    "            match = True\n",
    "            break\n",
    "    if match: count2 += 1\n",
    "print(count2)"
   ]
  },
  {
   "cell_type": "code",
   "execution_count": 4,
   "id": "43d62c27-6922-4494-80a1-57f43a35c874",
   "metadata": {
    "tags": []
   },
   "outputs": [
    {
     "name": "stdout",
     "output_type": "stream",
     "text": [
      "87\n"
     ]
    }
   ],
   "source": [
    "artists_wikipedia_links = [\n",
    "    '/wiki/Morris_and_Company',\n",
    "    '/wiki/Unknown,_British',\n",
    "    '/wiki/Edward_Burne-Jones',\n",
    "    '/wiki/John_Henry_Dearle',\n",
    "    '/wiki/Arthur_John_Strutt',\n",
    "    '/wiki/Unknown_(artist)',\n",
    "    '/wiki/Duncan_Dearle',\n",
    "    '/wiki/William_Morris',\n",
    "    '/wiki/Hu_Zhengyan',\n",
    "    '/wiki/Alfred_Crowquill',\n",
    "    '/wiki/William_Trost_Richards',\n",
    "    '/wiki/George_Romney',\n",
    "    '/wiki/Unknown,_American',\n",
    "    '/wiki/Edward_Francis_Burney',\n",
    "    '/wiki/Paul_Mary_Gray',\n",
    "    '/wiki/G._T._Romilly',\n",
    "    '/wiki/Philip_William_May',\n",
    "    '/wiki/John_Tenniel',\n",
    "    '/wiki/Charles_Hamilton_Smith',\n",
    "    '/wiki/Edward_William_Cooke',\n",
    "    '/wiki/Charles_Altamont_Doyle',\n",
    "    '/wiki/Joseph_Basil_Girard',\n",
    "    '/wiki/John_Roos',\n",
    "    '/wiki/John_Rollos',\n",
    "    '/wiki/Joseph_Strutt',\n",
    "    '/wiki/Isaac_Cruikshank',\n",
    "    '/wiki/Hablot_Knight_Browne',\n",
    "    '/wiki/William_Turner_(Turner_of_Oxford)',\n",
    "    '/wiki/Joseph_Farington',\n",
    "    '/wiki/Frederick_Hammersley',\n",
    "    '/wiki/Sarah_Parker',\n",
    "    '/wiki/Martin_Anderson',\n",
    "    '/wiki/William_Gilpin',\n",
    "    '/wiki/Samuel_Woodforde',\n",
    "    '/wiki/Charles_Fairfax_Murray',\n",
    "    '/wiki/Frank_Lobdell',\n",
    "    '/wiki/Kate_Greenaway',\n",
    "    '/wiki/Cornelius_Varley',\n",
    "    '/wiki/William_Blake',\n",
    "    '/wiki/Sèvres_Porcelain_Manufactory',\n",
    "    '/wiki/Myles_Birket_Foster',\n",
    "    '/wiki/John_Flaxman',\n",
    "    '/wiki/Robert_Taylor_Pritchett',\n",
    "    '/wiki/William_Hamilton',\n",
    "    '/wiki/Charles_Henry_Bennett',\n",
    "    '/wiki/Elihu_Vedder',\n",
    "    '/wiki/James_Justinian_Morier',\n",
    "    '/wiki/Frederick_W._Pailthorpe',\n",
    "    '/wiki/Unknown,_British,_19th_Century',\n",
    "    '/wiki/James_Baynes',\n",
    "    '/wiki/Francis_Legatt_Chantrey',\n",
    "    '/wiki/Charles_Erskine_Wood',\n",
    "    '/wiki/Smirke_family',\n",
    "    '/wiki/Stanley_Baker',\n",
    "    '/wiki/Thomas_Stothard',\n",
    "    '/wiki/Ernest_Henry_Griset',\n",
    "    '/wiki/Edward_Gurden_Dalziel',\n",
    "    '/wiki/Robert_Blake',\n",
    "    '/wiki/G._A._C.',\n",
    "    '/wiki/George_Moutard_Woodward',\n",
    "    '/wiki/R.B._Kitaj',\n",
    "    '/wiki/Marlborough_Gallery,_London',\n",
    "    '/wiki/Kelpra_Studios,_London',\n",
    "    '/wiki/Mary_Foster',\n",
    "    '/wiki/Richard_Cosway',\n",
    "    '/wiki/John_Frederick_Kensett',\n",
    "    '/wiki/John_Glover',\n",
    "    '/wiki/William_James_Glackens',\n",
    "    '/wiki/Don_Freeman',\n",
    "    '/wiki/Samuel_Howitt',\n",
    "    '/wiki/Christian_Jorgensen',\n",
    "    '/wiki/Ford_Madox_Brown',\n",
    "    '/wiki/John_Constable',\n",
    "    '/wiki/Joseph_Clayton_Clarke',\n",
    "    '/wiki/William_Callow',\n",
    "    '/wiki/Henry_William_Bunbury',\n",
    "    '/wiki/David_Scott',\n",
    "    '/wiki/James_McKee_Spalding',\n",
    "    '/wiki/Edward_Lear',\n",
    "    '/wiki/William_Henry_Hunt',\n",
    "    '/wiki/David_Wilkie',\n",
    "    '/wiki/Peter_Scheemakers',\n",
    "    '/wiki/George_DuMaurier',\n",
    "    '/wiki/David_Cox,_the_younger',\n",
    "    '/wiki/George_John_Pinwell',\n",
    "    '/wiki/Eugène-Stanislas-Alexandre_Blery',\n",
    "    '/wiki/Horatio_Joseph_Lucas',\n",
    "    '/wiki/Thomas_Gainsborough',\n",
    "    '/wiki/John_Phillip',\n",
    "    '/wiki/George_Cruikshank',\n",
    "    '/wiki/Henry_William_Burgess',\n",
    "    '/wiki/Richard_Doyle',\n",
    "    '/wiki/James_Holland',\n",
    "    '/wiki/Philip_Webb',\n",
    "    '/wiki/Dante_Gabriel_Rossetti',\n",
    "    '/wiki/John_Deare',\n",
    "    '/wiki/James_David_Smillie',\n",
    "    '/wiki/William_James_Müller',\n",
    "    '/wiki/James_Thornhill',\n",
    "    '/wiki/William_Harold_Knight',\n",
    "    '/wiki/John_William_Casilear',\n",
    "    '/wiki/Marsden_Hartley',\n",
    "    '/wiki/Unknown,_French,_18th_Century',\n",
    "    '/wiki/Unknown,_Italian',\n",
    "    '/wiki/John_Varley',\n",
    "    '/wiki/John_Masey_Wright',\n",
    "    '/wiki/Charles_Samuel_Keene',\n",
    "    '/wiki/Alexander_Zerdin_Kruse',\n",
    "    '/wiki/Julius_Ludovici',\n",
    "    '/wiki/Cuthbert_Bede',\n",
    "    '/wiki/Carl_Moon',\n",
    "    '/wiki/Mary_Ann_Fenn',\n",
    "    '/wiki/Fran%C3%A7ois_Boucher',\n",
    "    '/wiki/Nicholas_Pocock',\n",
    "    '/wiki/S._E._M.',\n",
    "    '/wiki/Alfred_Stevens_(painter)',\n",
    "     '/wiki/John_Sloan',\n",
    "    '/wiki/George_Edmund_Street',\n",
    "    '/wiki/Mary_Evelyn',\n",
    "    '/wiki/Thomas_Hart_Benton',\n",
    "    '/wiki/Joseph_Pennell',\n",
    "        '/wiki/Francis_Stevens_(painter)',\n",
    "    '/wiki/John_Monro_(artist)',\n",
    "    '/wiki/Daniel_Finch,_2nd_Earl_of_Nottingham',\n",
    "    '/wiki/Henry_George_Hine',\n",
    "    '/wiki/John_Cleveley_the_Elder',\n",
    "    '/wiki/Edwin_Thomas_Dolby',\n",
    "    '/wiki/Frederick_Watts_(Royal_Academician)',\n",
    "    '/wiki/Richard_Westall',\n",
    "    '/wiki/Robert_Southey',\n",
    "    '/wiki/Luke_Clennell',\n",
    "    '/wiki/William_Collins_(painter)',\n",
    "    '/wiki/Thomas_Creswick',\n",
    "    '/wiki/Samuel_De_Wilde',\n",
    "    '/wiki/William_Evans_(painter)',\n",
    "    '/wiki/Rose_Cecil_O%27Neill',\n",
    "    '/wiki/Joseph_Barber',\n",
    "    '/wiki/Francis_Oliver_Finch',\n",
    "    '/wiki/Finch_family',\n",
    "    '/wiki/George_Arthur_Fripp',\n",
    "    '/wiki/William_Havell',\n",
    "    '/wiki/Henry_Cole_(civil_servant)',\n",
    "    '/wiki/Wilhelm_Hunt_Diederich',\n",
    "    '/wiki/Joseph_Highmore',\n",
    "    '/wiki/Arthur_Hughes_(artist)',\n",
    "    '/wiki/Harry_John_Johnson',\n",
    "    '/wiki/John_Baverstock_Knight',\n",
    "    '/wiki/William_Gray_(painter)',\n",
    "    '/wiki/Harry_L._Chorlton',\n",
    "    '/wiki/William_Locke_(painter)',\n",
    "    '/wiki/Thomas_Lound',\n",
    "    '/wiki/Reginald_Marsh',\n",
    "    '/wiki/Benton_Murdoch_Spruance',\n",
    "    '/wiki/Harry_Bertoia',\n",
    "    '/wiki/Chinese_art',\n",
    "    '/wiki/German_art',\n",
    "    '/wiki/Dutch_art',\n",
    "    '/wiki/Robert_Rauschenberg',\n",
    "    '/wiki/Italian_Renaissance_art',\n",
    "    '/wiki/Benjamin_Robert_Haydon',\n",
    "    '/wiki/English_School_(painting)',\n",
    "    '/wiki/Mabel_Agnes_Wood',\n",
    "    '/wiki/Charles_Ansell',\n",
    "    '/wiki/James_Ferguson_(artist)',\n",
    "    '/wiki/David_Loggan',\n",
    "    '/wiki/Charles_F._Tomkins',\n",
    "    '/wiki/Thomas_Carwitham',\n",
    "    '/wiki/George_Edwards_(naturalist)',\n",
    "    '/wiki/Charles_Cressent',\n",
    "    '/wiki/William_Etty',\n",
    "    '/wiki/Sheldon_Peck',\n",
    "    '/wiki/John_Brewster_Jr.',\n",
    "    '/wiki/Henry_Moore_(sculptor)',\n",
    "    '/wiki/Donald_Judd',\n",
    "    '/wiki/Enrique_Mart%C3%ADnez_Celaya',\n",
    "    '/wiki/Gee%27s_Bend_quilters',\n",
    "    '/wiki/Charles_Heathcote_Tatham',\n",
    "    '/wiki/Walter_Greaves',\n",
    "    '/wiki/William_Hoare',\n",
    "    '/wiki/Robert_Streatfield',\n",
    "    '/wiki/Frederick_Richard_Pickersgill',\n",
    "    '/wiki/Charles_Willson_Peale',\n",
    "    '/wiki/Mather_Brown',\n",
    "    '/wiki/Harry_Furniss',\n",
    "    '/wiki/Evelyn_de_Morgan',\n",
    "    '/wiki/Edward_Linley_Sambourne',\n",
    "    '/wiki/Laurence_Housman',\n",
    "    '/wiki/John_Doyle_(illustrator)',\n",
    "    '/wiki/Thomas_Hartley_Cromek',\n",
    "    '/wiki/Kenjiro_Nomura',\n",
    "    '/wiki/Louis-Fran%C3%A7ois_Roubillac',\n",
    "    '/wiki/Anthony_van_Dyck',\n",
    "    '/wiki/William_Russell_Flint',\n",
    "    '/wiki/Christian_Schussele',\n",
    "    '/wiki/John_West_(painter)',\n",
    "    '/wiki/William_Henry_Pike',\n",
    "    '/wiki/William_Strutt_(artist)',\n",
    "    '/wiki/Pierre_Roussel_(engraver)',\n",
    "    '/wiki/Thomas_Matthew_Rooke',\n",
    "    '/wiki/Mary_Hoover_Aiken',\n",
    "    '/wiki/Nathaniel_Smith_(engraver)',\n",
    "    '/wiki/Matthew_Haughton',\n",
    "    '/wiki/Joseph_Baumhauer',\n",
    "    '/wiki/Daniel_Dodd_(cabinetmaker)',\n",
    "    '/wiki/Matthew_Gibbins',\n",
    "    '/wiki/John_Austen_Fitzgerald',\n",
    "    '/wiki/Jean-Fran%C3%A7ois_Oeben',\n",
    "    '/wiki/Cecil_Gwendolyn_St_Leger_Russell_Trew',\n",
    "    '/wiki/Winslow_Homer',\n",
    "    '/wiki/Eastman_Johnson',\n",
    "    '/wiki/Walt_Kuhn', '/wiki/Robert_Spencer_(artist)',\n",
    "    '/wiki/Harriet_Hosmer',\n",
    "    '/wiki/Clara_L._Huntington',\n",
    "    '/wiki/Antoine-Toussaint_Cornaille',\n",
    "    '/wiki/Charles_Christian_Nahl',\n",
    "    '/wiki/Edwin_Austin_Abbey',\n",
    "    '/wiki/Cyrus_Leroy_Baldridge',\n",
    "    '/wiki/William_Brenton_Boggs',\n",
    "    '/wiki/Benjamin_Marshall_(artist)',\n",
    "    '/wiki/John_George_Brown',\n",
    "    '/wiki/John_Nost_Sartorius',\n",
    "    '/wiki/Charles_Demuth',\n",
    "    '/wiki/Seth_Eastman',\n",
    "    '/wiki/John_Mackie_Falconer',\n",
    "    '/wiki/Jules_Guerin',\n",
    "    '/wiki/James_Hamilton_(artist)',\n",
    "    '/wiki/John_Henry_Hill',\n",
    "    '/wiki/Daniel_Huntington_(painter)',\n",
    "    '/wiki/Rollin_Kirby',\n",
    "    '/wiki/Jean-Jacques_Caffi%C3%A9ri',\n",
    "    '/wiki/Louis-F%C3%A9lix_de_La_Rue',\n",
    "    '/wiki/Thomas_Couture',\n",
    "    '/wiki/Charles_Fran%C3%A7ois_Daubigny',\n",
    "    '/wiki/Narcisse_Virgile_Diaz_de_la_Pe%C3%B1a',\n",
    "    '/wiki/Fran%C3%A7ois_Hubert_Drouais',\n",
    "    '/wiki/Jean-Honor%C3%A9_Fragonard',\n",
    "    '/wiki/Claude_Lorrain',\n",
    "    '/wiki/Henri-Joseph_Harpignies',\n",
    "    '/wiki/Jean-Baptiste_Hilair',\n",
    "    '/wiki/Charles_%C3%89mile_Jacque',\n",
    "    '/wiki/Nicolas_Lancret',\n",
    "    '/wiki/Jean-Baptiste_Pater',\n",
    "    '/wiki/Constant_Troyon',\n",
    "    '/wiki/Edm%C3%A9_Bouchardon',\n",
    "    '/wiki/Jacques_Houzeau',\n",
    "    '/wiki/French_art_of_the_16th_century',\n",
    "    '/wiki/%C3%89lisabeth_Louise_Vig%C3%A9e-Lebrun',\n",
    "    '/wiki/Edwin_James_Meeker',\n",
    "    '/wiki/Gabriel_Metsu',\n",
    "    '/wiki/Philips_Wouwerman',\n",
    "    '/wiki/Domenico_Ghirlandaio',\n",
    "    '/wiki/Michele_Ciampanti',\n",
    "    '/wiki/Henry_Jackson_Morton',\n",
    "    '/wiki/Henry_Mosler',\n",
    "    '/wiki/Hugh_Newell',\n",
    "    '/wiki/Peter_Newell_(artist)',\n",
    "    '/wiki/Charles_Balthazar_Julien_Fevret_de_Saint-M%C3%A9min',\n",
    "    '/wiki/George_Henry_Smillie',\n",
    "    '/wiki/William_Louis_Sonntag_Jr.',\n",
    "    '/wiki/Eugene_Edward_Speicher',\n",
    "    '/wiki/Lilly_Martin_Spencer',\n",
    "    '/wiki/Edmund_Walenta',\n",
    "    '/wiki/Robert_Walter_Weir',\n",
    "    '/wiki/Charles_Ferdinand_Wimar',\n",
    "    '/wiki/Aaron_Edwin_Penley',\n",
    "    '/wiki/Michel_Angelo_Woolf',\n",
    "    '/wiki/Alexander_Helwig_Wyant',\n",
    "    '/wiki/George_Engleheart',\n",
    "    '/wiki/Joseph_Powell_(artist)',\n",
    "    '/wiki/Anne_Mee',\n",
    "    '/wiki/John_Gregory_(sculptor)',\n",
    "    '/wiki/Joseph_Edward_Southall',\n",
    "    '/wiki/Stefano_Maderno',\n",
    "    '/wiki/Henry_Bonnard_Bronze_Company',\n",
    "    '/wiki/Ramsay_Richard_Reinagle',\n",
    "    '/wiki/James_Bourne_(engraver)',\n",
    "    '/wiki/Joseph_Bluck',\n",
    "    '/wiki/Arthur_Sanderson_and_Sons',\n",
    "    '/wiki/Luigi_Lucioni',\n",
    "    '/wiki/George_Robertson_(painter)',\n",
    "    '/wiki/Sanford_Robinson_Gifford',\n",
    "    '/wiki/Robert_Blemmell_Schnebbelie',\n",
    "    '/wiki/John_Thomas_Serres',\n",
    "    '/wiki/William_Frome_Smallwood',\n",
    "    '/wiki/William_Collingwood_Smith',\n",
    "    '/wiki/Robert_Adam',\n",
    "    '/wiki/J._V._DeFleury',\n",
    "    '/wiki/John_Macallan_Swan',\n",
    "    '/wiki/Samuel_Dunkinfield_Swarbreck',\n",
    "    '/wiki/Thomas_Phillips_(artist)',\n",
    "    '/wiki/Robert_Brandard',\n",
    "    '/wiki/Emma,_Lady_Hamilton'\n",
    "]\n",
    "keywords2=[\"African American\", \"African\", \"Haitian\", \"Kenyan\",  \"South African\",\n",
    "     \"Tanzanian\",  \"Namibian\",  \"Algerian\",  \"Gay\", \"LGBTQ\", \"LGBT\",\n",
    "    \"LGBTQ+\", \"Lesbian\", \"Bisexual\", \"Transgender\", \"Non-binary\", \"Homosexual\", \"Queer\", \"AIDS\", \"Latin\", \"Latino\",\n",
    "    \"Latina\", \"Mexican\",   \"Puerto Rican\", \"Spanish\",  \"Brazilian\", \"Hispanic\", \"Latinx\",\n",
    "     \"Asian\", \"Chinese\",  \"Japanese\",  \"Indian\", \"Taiwanese\", \"Thai\",\n",
    "    \"Thawanese\", \"Korean\", \"South Korean\",  \"Vietnamese\", \"Filipino\", \n",
    "     \"Cambodian\", \"Indonesian\", \"Nepalese\", \"Middle Eastern\", \"Iraq\", \"Iraqi\", \n",
    "    \"Pakistani\", \"Iranian\",  \"Palestinian\", \"Laotian\", \"Afghan\", \"Mongolian\",\n",
    "     \"Singaporean\", \"Taiwanese\", \"Sri Lankan\", \"Egyptian\", \"Muslim\",\n",
    "    \"Sikhism\", \"Sikh\", \"Arabic\", \"Saudi Arabia\", \"Saudi Arabian\", \"Lebanese\",  \"Syrian\", \n",
    "    \"Colombian\", \"Argentinian\",  \"Ecuadorian\",\"Peruvian\", \"Chilean\", \n",
    "    \"Venezuelan\"]\n",
    "count2 = 0\n",
    "for link2 in artists_wikipedia_links:\n",
    "    page = requests.get('https://en.wikipedia.org/' + link2)\n",
    "    soup = BeautifulSoup(page.text, \"html.parser\")\n",
    "    match = False\n",
    "    for word in keywords2:\n",
    "        if soup.findAll(string=lambda text: word in text):\n",
    "            match = True\n",
    "            break\n",
    "    if match: count2 += 1\n",
    "print(count2)"
   ]
  },
  {
   "cell_type": "code",
   "execution_count": 3,
   "id": "8d3f6c8d-3aa0-427e-8487-a253be57e1df",
   "metadata": {
    "tags": []
   },
   "outputs": [
    {
     "name": "stdout",
     "output_type": "stream",
     "text": [
      "125\n"
     ]
    }
   ],
   "source": [
    "artists_wikipedia_links = [\n",
    "   \"/wiki/Magdalena_Abakanowicz\",\n",
    "    \"/wiki/Eduardo_Abaroa\",\n",
    "    \"/wiki/Berenice_Abbott\",\n",
    "    \"/wiki/Kim_Abeles\",\n",
    "    \"/wiki/Raimund_Abraham\",\n",
    "    \"/wiki/Marina_Abramovi%C4%87\",\n",
    "    \"/wiki/Vito_Acconci\",\n",
    "    \"/wiki/Franz_Ackermann\",\n",
    "    \"/wiki/Rita_Ackermann\",\n",
    "    \"/wiki/Ansel_Adams\",\n",
    "    \"/wiki/Georges_Adeagbo\",\n",
    "    \"/wiki/Terry_Adkins\",\n",
    "    \"/wiki/Amy_Adler\",\n",
    "    \"/wiki/Etel_Adnan\",\n",
    "    \"/wiki/Nicolas_Africano\",\n",
    "    \"/wiki/Afrika_(artist)\",\n",
    "    \"/wiki/Laura_Aguilar\",\n",
    "    \"/wiki/John_Ahearn\",\n",
    "    \"/wiki/Shiva_Ahmadi\",\n",
    "    \"/wiki/Eija-Liisa_Ahtila\",\n",
    "    \"/wiki/Doug_Aitken\",\n",
    "    \"/wiki/Kelly_Akashi\",\n",
    "    \"/wiki/Josef_Albers\",\n",
    "    \"/wiki/Lita_Albuquerque\",\n",
    "    \"/wiki/Lynn_Aldrich\",\n",
    "    \"/wiki/Pierre_Alechinsky\",\n",
    "    \"/wiki/John_Alexander_(artist)\",\n",
    "    \"/wiki/Peter_Alexander_(artist)\",\n",
    "    \"/wiki/Vikky_Alexander\",\n",
    "    \"/wiki/Neda_Alhilali\",\n",
    "    \"/wiki/Jim_Alinder\",\n",
    "    \"/wiki/Terry_Allen_(artist)\",\n",
    "    \"/wiki/Tom_Allen_(artist)\",\n",
    "    \"/wiki/Allora_%26_Calzadilla\",\n",
    "    \"/wiki/Jerri_Allyn\",\n",
    "    \"/wiki/Herb_Alpert\",\n",
    "    \"/wiki/Kai_Althoff\",\n",
    "    \"/wiki/David_Altmejd\",\n",
    "    \"/wiki/John_Altoon\",\n",
    "    \"/wiki/Francis_Al%C3%BFs\",\n",
    "    \"/wiki/David_Amico\",\n",
    "    \"/wiki/Emma_Amos\",\n",
    "    \"/wiki/William_Anastasi\",\n",
    "    \"/wiki/Harold_Ancart\",\n",
    "    \"/wiki/Casey_Anderson_(artist)\",\n",
    "    \"/wiki/Karin_Mamma_Andersson\",\n",
    "    \"/wiki/Joe_Andoe\",\n",
    "    \"/wiki/Carl_Andre\",\n",
    "    \"/wiki/Kathryn_Andrews\",\n",
    "    \"/wiki/Kenneth_Anger\",\n",
    "    \"/wiki/Matthew_Antezzo\",\n",
    "    \"/wiki/Eleanor_Antin\",\n",
    "    \"/wiki/Stephen_Antonakos\",\n",
    "    \"/wiki/Janine_Antoni\",\n",
    "    \"/wiki/Richard_Anuszkiewicz\",\n",
    "    \"/wiki/Chiho_Aoshima\",\n",
    "    \"/wiki/Chiho_Aoshima\",\n",
    "    \"/wiki/Karel_Appel\",\n",
    "    \"/wiki/Kevin_Appel\",\n",
    "    \"/wiki/Shusaku_Arakawa\",\n",
    "    \"/wiki/Nobuyoshi_Araki\",\n",
    "    \"/wiki/Diane_Arbus\",\n",
    "    \"/wiki/Edgar_Arceneaux\",\n",
    "    \"/wiki/Carmen_Argote\",\n",
    "    \"/wiki/Mar%C3%ADa_Jos%C3%A9_Arjona\",\n",
    "    \"/wiki/Siah_Armajani\",\n",
    "    \"/wiki/Robert_Arneson\",\n",
    "    \"/wiki/Steven_Arnold_(artist)\",\n",
    "    \"/wiki/Art_%26_Language\",\n",
    "    \"/wiki/Various_Artists\",\n",
    "    \"/wiki/Richard_Artschwager\",\n",
    "    \"/wiki/Ruth_Asawa\",\n",
    "    \"/wiki/Dan_Asher_(artist)\",\n",
    "    \"/wiki/Michael_Asher_(artist)\",\n",
    "    \"/wiki/Doug_Ashford\",\n",
    "    \"/wiki/David_Askevold\",\n",
    "    \"/wiki/Hope_Atherton\",\n",
    "    \"/wiki/Charles_Atlas_(artist)\",\n",
    "    \"/wiki/Alice_Aycock\",\n",
    "    \"/wiki/Belkis_Ayon\", \n",
    "    \"/wiki/Don_Bachardy\",\n",
    "    \"/wiki/Mowry_Baden\",\n",
    "    \"/wiki/Donald_Baechler\",\n",
    "    \"/wiki/Jo_Baer\",\n",
    "    \"/wiki/Monika_Baer\",\n",
    "    \"/wiki/John_Baldessari\",\n",
    "    \"/wiki/Miroslaw_Balka\",\n",
    "    \"/wiki/Stephan_Balkenhol\",\n",
    "    \"/wiki/Michael_Balog\",\n",
    "    \"/wiki/Lewis_Baltz\",\n",
    "    \"/wiki/Ali_Banisadr\",\n",
    "    \"/wiki/Fiona_Banner\",\n",
    "    \"/wiki/Randall_P._Barajas\",\n",
    "    \"/wiki/Rudolf_Baranik\",\n",
    "    \"/wiki/Matthew_Barney\",\n",
    "    \"/wiki/Ana_Barrado\",\n",
    "    \"/wiki/Robert_Barry_(artist)\",\n",
    "    \"/wiki/Uta_Barth\",\n",
    "    \"/wiki/Jennifer_Bartlett\",\n",
    "    \"/wiki/Nancy_Barton\",\n",
    "    \"/wiki/Adam_Bartos\",\n",
    "    \"/wiki/Hernan_Bas\",\n",
    "    \"/wiki/Jean-Michel_Basquiat\",\n",
    "    \"/wiki/Math_Pearl_Bass\",\n",
    "    \"/wiki/Thomas_Bayrle\",\n",
    "    \"/wiki/Tony_Bechara\",\n",
    "    \"/wiki/Bernd_and_Hilla_Becher\",\n",
    "    \"/wiki/Bernd_Becher\",\n",
    "    \"/wiki/Hilla_Becher\",\n",
    "    \"/wiki/Julie_Becker\",\n",
    "    \"/wiki/Ford_Beckman\",\n",
    "    \"/wiki/Michael_Becotte\",\n",
    "    \"/wiki/Jos%C3%A9_Bedia\",\n",
    "    \"/wiki/Vanessa_Beecroft\",\n",
    "    \"/wiki/Dirk_Bell\",\n",
    "    \"/wiki/Larry_Bell\",\n",
    "    \"/wiki/Vanessa_Bell\",\n",
    "    \"/wiki/Gretchen_Bender\",\n",
    "    \"/wiki/Lynda_Benglis\",\n",
    "    \"/wiki/Billy_Al_Bengston\",\n",
    "    \"/wiki/Karl_Benjamin\",\n",
    "    \"/wiki/Sadie_Benning\",\n",
    "    \"/wiki/Gordon_%22Diz%22_Bensley\",\n",
    "    \"/wiki/Jonathan_Bepler\",\n",
    "    \"/wiki/Hans_Georg_Berger\",\n",
    "    \"/wiki/Ellen_Berkenblit\",\n",
    "    \"/wiki/Tony_Berlant\",\n",
    "    \"/wiki/Wallace_Berman\",\n",
    "    \"/wiki/Cindy_Bernard\",\n",
    "    \"/wiki/Judith_Bernstein\",\n",
    "    \"/wiki/Walead_Beshty\",\n",
    "    \"/wiki/Amy_Bessone\",\n",
    "    \"/wiki/Joseph_Beuys\",\n",
    "    \"/wiki/Tony_Bevan\",\n",
    "    \"/wiki/Ashley_Bickerton\",\n",
    "    \"/wiki/Guillaume_Bijl\",\n",
    "    \"/wiki/Johanna_Billing\",\n",
    "    \"/wiki/Richard_Billingham\",\n",
    "    \"/wiki/Ilse_Bing\",\n",
    "    \"/wiki/Xu_Bing\",\n",
    "    \"/wiki/Dara_Birnbaum\",\n",
    "    \"/wiki/Michael_Bishop_(artist)\",\n",
    "    \"/wiki/Ginny_Bishton\",\n",
    "    \"/wiki/Dike_Blair\",\n",
    "    \"/wiki/Jeremy_Blake\",\n",
    "    \"/wiki/Nayland_Blake\",\n",
    "    \"/wiki/A.J._Blandford\",\n",
    "    \"/wiki/Ross_Bleckner\",\n",
    "    \"/wiki/Barbara_Bloom\",\n",
    "    \"/wiki/Norman_Bluhm\",\n",
    "    \"/wiki/BOB_%26_BOB\",\n",
    "    \"/wiki/Olivier_Boberg\",\n",
    "    \"/wiki/Mel_Bochner\",\n",
    "    \"/wiki/John_Bock\",\n",
    "    \"/wiki/Alighiero_Boetti\",\n",
    "    \"/wiki/Chaz_Boj%C3%B3rquez\",\n",
    "    \"/wiki/Jennifer_Bolande\",\n",
    "    \"/wiki/Christian_Boltanski\",\n",
    "    \"/wiki/Lee_Bontecou\",\n",
    "    \"/wiki/Jennifer_Bornstein\",\n",
    "    \"/wiki/Jonathan_Borofsky\",\n",
    "    \"/wiki/Micha%C3%ABl_Borremans\",\n",
    "    \"/wiki/John_Boskovich\",\n",
    "    \"/wiki/Richard_Bosman\",\n",
    "    \"/wiki/Margaret_Bourke-White\",\n",
    "    \"/wiki/Andrea_Bowers\",\n",
    "    \"/wiki/Diedrick_Brackens\",\n",
    "    \"/wiki/Mark_Bradford\",\n",
    "    \"/wiki/Garrett_Bradley\",\n",
    "    \"/wiki/Slater_Bradley\",\n",
    "    \"/wiki/Dove_Bradshaw\",\n",
    "    \"/wiki/Philippe_Bradshaw\",\n",
    "    \"/wiki/Bill_Brandt\",\n",
    "    \"/wiki/Brassa%C3%AF\",\n",
    "    \"/wiki/Troy_Brauntuch\",\n",
    "    \"/wiki/Robert_Breer\",\n",
    "    \"/wiki/Michael_Brewster\",\n",
    "    \"/wiki/William_Brice\",\n",
    "    \"/wiki/Sherry_Brody\",\n",
    "    \"/wiki/Jessica_Bronson\",\n",
    "    \"/wiki/Nancy_Brooks_Brody\",\n",
    "    \"/wiki/Kitty_Brophy\",\n",
    "    \"/wiki/Stanley_Brouwn\",\n",
    "    \"/wiki/Joan_Brown_(artist)\",\n",
    "    \"/wiki/Ken_Brown_(artist)\",\n",
    "    \"/wiki/Robert_E._Brown\",\n",
    "    \"/wiki/Fr%C3%A9d%C3%A9ric_Bruly_Bouabr%C3%A9\",\n",
    "    \"/wiki/G%C3%BCnter_Brus\",\n",
    "    \"/wiki/Edgar_Bryan\",\n",
    "    \"/wiki/Matt_Bryans\",\n",
    "    \"/wiki/Esther_Bubley\",\n",
    "    \"/wiki/Beverly_Buchanan\",\n",
    "    \"/wiki/Tobias_Buche\",\n",
    "    \"/wiki/Afrika_(Sergei_Bugaev)\",\n",
    "    \"/wiki/Lucy_Bull\",\n",
    "    \"/wiki/David_Bungay\",\n",
    "    \"/wiki/David_Bunn\",\n",
    "    \"/wiki/Lucinda_Bunnen\",\n",
    "    \"/wiki/Chris_Burden\",\n",
    "    \"/wiki/Daniel_Buren\",\n",
    "    \"/wiki/Victor_Burgin\",\n",
    "    \"/wiki/Tom_Burr\",\n",
    "    \"/wiki/Jeff_Burton\",\n",
    "    \"/wiki/Richmond_Burton\",\n",
    "    \"/wiki/Scott_Burton\",\n",
    "    \"/wiki/Deborah_Butterfield\",\n",
    "    \"/wiki/Andr%C3%A9_Butzer\",\n",
    "    \"/wiki/James_Lee_Byars\",\n",
    "    \"/wiki/John_Cage\",\n",
    "    \"/wiki/Ernesto_Caivano\",\n",
    "    \"/wiki/Alexander_Calder\",\n",
    "    \"/wiki/Harry_Callahan\",\n",
    "    \"/wiki/Sophie_Calle\",\n",
    "    \"/wiki/Jo_Ann_Callis\",\n",
    "    \"/wiki/Brian_Calvin\",\n",
    "    \"/wiki/Cameron_(artist)\",\n",
    "    \"/wiki/Marjorie_Cameron\",\n",
    "    \"/wiki/Paul_Caponigro\",\n",
    "    \"/wiki/Jorge_Carballo\",\n",
    "    \"/wiki/Cynthia_Carlson\",\n",
    "    \"/wiki/Gillian_Carnegie\",\n",
    "    \"/wiki/Anthony_Caro\",\n",
    "    \"/wiki/Merlin_Carpenter\",\n",
    "    \"/wiki/Los_Carpinteros\",\n",
    "    \"/wiki/Patrick_Carrara\",\n",
    "    \"/wiki/Lawrence_Carroll\",\n",
    "    \"/wiki/Karen_Carson\",\n",
    "    \"/wiki/Jordan_Casteel\",\n",
    "    \"/wiki/Maurizio_Cattelan\",\n",
    "    \"/wiki/Arpana_Caur\",\n",
    "    \"/wiki/Vija_Celmins\",\n",
    "    \"/wiki/Saint_Clair_Cemin\",\n",
    "    \"/wiki/Gusmano_Cesaretti\",\n",
    "    \"/wiki/Xavier_Cha\",\n",
    "    \"/wiki/John_Chamberlain\",\n",
    "    \"/wiki/Sarah_Charlesworth\",\n",
    "    \"/wiki/Tessa_Chasteen\",\n",
    "    \"/wiki/E._Chen\",\n",
    "    \"/wiki/Ian_Cheng\",\n",
    "    \"/wiki/Talia_Chetrit\",\n",
    "    \"/wiki/Judy_Chicago\",\n",
    "    \"/wiki/Thomas_Chimes\",\n",
    "    \"/wiki/Cody_Choi\",\n",
    "    \"/wiki/William_Christenberry\",\n",
    "    \"/wiki/Christo_and_Jeanne-Claude\",\n",
    "    \"/wiki/Anne_Chu\",\n",
    "    \"/wiki/Leidy_Churchman\",\n",
    "    \"/wiki/David_Claerbout\",\n",
    "    \"/wiki/Larry_Clark\",\n",
    "    \"/wiki/Francesco_Clemente\",\n",
    "    \"/wiki/Chuck_Close\",\n",
    "    \"/wiki/Charles_Clough\",\n",
    "    \"/wiki/Preston_Scott_Cohen\",\n",
    "    \"/wiki/Max_Cole\",\n",
    "    \"/wiki/James_Coleman_(artist)\",\n",
    "    \"/wiki/Dan_Colen\",\n",
    "    \"/wiki/Robert_Colescott\",\n",
    "    \"/wiki/Colette_(artist)\",\n",
    "    \"/wiki/Anne_Collier\",\n",
    "    \"/wiki/Greg_Colson\",\n",
    "    \"/wiki/Jeff_Colson\",\n",
    "    \"/wiki/Ed_Colver\",\n",
    "      \"/wiki/George_Condo\",\n",
    "    \"/wiki/Bruce_Conner\",\n",
    "    \"/wiki/Fiona_Connor\",\n",
    "    \"/wiki/Tony_Conrad\",\n",
    "    \"/wiki/Houston_Conwill\",\n",
    "    \"/wiki/Nigel_Cooke\",\n",
    "    \"/wiki/Miles_Coolidge\",\n",
    "    \"/wiki/Dennis_Cooper\",\n",
    "    \"/wiki/Ron_Cooper_(artist)\",\n",
    "    \"/wiki/John_Coplans\",\n",
    "    \"/wiki/William_Copley_(artist)\",\n",
    "    \"/wiki/Raul_Cordero\",\n",
    "    \"/wiki/Joseph_Cornell\",\n",
    "    \"/wiki/Carlotta_Corpron\",\n",
    "    \"/wiki/Mary_Corse\",\n",
    "    \"/wiki/Petra_Cortright\",\n",
    "    \"/wiki/Erin_Cosgrove\",\n",
    "    \"/wiki/Eileen_Cowin\",\n",
    "    \"/wiki/Liz_Craft\",\n",
    "    \"/wiki/Tony_Cragg\",\n",
    "    \"/wiki/Barbara_Crane\",\n",
    "    \"/wiki/Meg_Cranston\",\n",
    "    \"/wiki/Alejandro_Miguel_Crawford\",\n",
    "    \"/wiki/Gregory_Crewdson\",\n",
    "    \"/wiki/Susan_Crocker\",\n",
    "    \"/wiki/Njideka_Akunyili_Crosby\",\n",
    "    \"/wiki/Russell_Crotty\",\n",
    "    \"/wiki/Carlos_Cruz-Diez\",\n",
    "    \"/wiki/Abraham_Cruzvillegas\",\n",
    "    \"/wiki/Robert_Cumming_(artist)\",\n",
    "    \"/wiki/Darryl_Curran\",\n",
    "    \"/wiki/John_Currin\",\n",
    "    \"/wiki/Aaron_Curry\",\n",
    "    \"/wiki/Julie_Curtiss\"\n",
    "\n",
    "    \n",
    "]\n",
    "keywords2=[\"African American\", \"African\", \"Haitian\", \"Kenyan\",  \"South African\",\n",
    "     \"Tanzanian\",  \"Namibian\",  \"Algerian\",  \"Gay\", \"LGBTQ\", \"LGBT\",\n",
    "    \"LGBTQ+\", \"Lesbian\", \"Bisexual\", \"Transgender\", \"Non-binary\", \"Homosexual\", \"Queer\", \"AIDS\", \"Latin\", \"Latino\",\n",
    "    \"Latina\", \"Mexican\",   \"Puerto Rican\", \"Spanish\",  \"Brazilian\", \"Hispanic\", \"Latinx\",\n",
    "     \"Asian\", \"Chinese\",  \"Japanese\",  \"Indian\", \"Taiwanese\", \"Thai\",\n",
    "    \"Thawanese\", \"Korean\", \"South Korean\",  \"Vietnamese\", \"Filipino\", \n",
    "     \"Cambodian\", \"Indonesian\", \"Nepalese\", \"Middle Eastern\", \"Iraq\", \"Iraqi\", \n",
    "    \"Pakistani\", \"Iranian\",  \"Palestinian\", \"Laotian\", \"Afghan\", \"Mongolian\",\n",
    "     \"Singaporean\", \"Taiwanese\", \"Sri Lankan\", \"Egyptian\", \"Muslim\",\n",
    "    \"Sikhism\", \"Sikh\", \"Arabic\", \"Saudi Arabia\", \"Saudi Arabian\", \"Lebanese\",  \"Syrian\", \n",
    "    \"Colombian\", \"Argentinian\",  \"Ecuadorian\",\"Peruvian\", \"Chilean\", \n",
    "    \"Venezuelan\"]\n",
    "count2 = 0\n",
    "for link2 in artists_wikipedia_links:\n",
    "    page = requests.get('https://en.wikipedia.org/' + link2)\n",
    "    soup = BeautifulSoup(page.text, \"html.parser\")\n",
    "    match = False\n",
    "    for word in keywords2:\n",
    "        if soup.findAll(string=lambda text: word in text):\n",
    "            match = True\n",
    "            break\n",
    "    if match: count2 += 1\n",
    "print(count2)"
   ]
  },
  {
   "cell_type": "code",
   "execution_count": null,
   "id": "06ce8ab3-ffe8-4b3e-bbd2-738b3f954c96",
   "metadata": {},
   "outputs": [],
   "source": []
  }
 ],
 "metadata": {
  "kernelspec": {
   "display_name": "Python 3 (ipykernel)",
   "language": "python",
   "name": "python3"
  },
  "language_info": {
   "codemirror_mode": {
    "name": "ipython",
    "version": 3
   },
   "file_extension": ".py",
   "mimetype": "text/x-python",
   "name": "python",
   "nbconvert_exporter": "python",
   "pygments_lexer": "ipython3",
   "version": "3.11.5"
  }
 },
 "nbformat": 4,
 "nbformat_minor": 5
}
